{
  "nbformat": 4,
  "nbformat_minor": 0,
  "metadata": {
    "colab": {
      "name": "Copy of SeniorWebScraping.ipynb",
      "provenance": [],
      "include_colab_link": true
    },
    "kernelspec": {
      "name": "python3",
      "display_name": "Python 3"
    },
    "language_info": {
      "name": "python"
    }
  },
  "cells": [
    {
      "cell_type": "markdown",
      "metadata": {
        "id": "view-in-github",
        "colab_type": "text"
      },
      "source": [
        "<a href=\"https://colab.research.google.com/github/icest99/wongnai-web-scraping/blob/main/SeniorWebScraping.ipynb\" target=\"_parent\"><img src=\"https://colab.research.google.com/assets/colab-badge.svg\" alt=\"Open In Colab\"/></a>"
      ]
    },
    {
      "cell_type": "code",
      "execution_count": null,
      "metadata": {
        "colab": {
          "base_uri": "https://localhost:8080/"
        },
        "id": "OPwnC5U74vx1",
        "outputId": "d3839b43-d43d-43b9-83e7-40e42b5d0340"
      },
      "outputs": [
        {
          "output_type": "stream",
          "name": "stdout",
          "text": [
            "Requirement already satisfied: bs4 in /usr/local/lib/python3.7/dist-packages (0.0.1)\n",
            "Requirement already satisfied: beautifulsoup4 in /usr/local/lib/python3.7/dist-packages (from bs4) (4.6.3)\n",
            "Requirement already satisfied: requests in /usr/local/lib/python3.7/dist-packages (2.23.0)\n",
            "Requirement already satisfied: idna<3,>=2.5 in /usr/local/lib/python3.7/dist-packages (from requests) (2.10)\n",
            "Requirement already satisfied: chardet<4,>=3.0.2 in /usr/local/lib/python3.7/dist-packages (from requests) (3.0.4)\n",
            "Requirement already satisfied: urllib3!=1.25.0,!=1.25.1,<1.26,>=1.21.1 in /usr/local/lib/python3.7/dist-packages (from requests) (1.24.3)\n",
            "Requirement already satisfied: certifi>=2017.4.17 in /usr/local/lib/python3.7/dist-packages (from requests) (2021.10.8)\n",
            "Requirement already satisfied: pandas in /usr/local/lib/python3.7/dist-packages (1.3.5)\n",
            "Requirement already satisfied: pytz>=2017.3 in /usr/local/lib/python3.7/dist-packages (from pandas) (2018.9)\n",
            "Requirement already satisfied: numpy>=1.17.3 in /usr/local/lib/python3.7/dist-packages (from pandas) (1.21.5)\n",
            "Requirement already satisfied: python-dateutil>=2.7.3 in /usr/local/lib/python3.7/dist-packages (from pandas) (2.8.2)\n",
            "Requirement already satisfied: six>=1.5 in /usr/local/lib/python3.7/dist-packages (from python-dateutil>=2.7.3->pandas) (1.15.0)\n"
          ]
        }
      ],
      "source": [
        "!pip install bs4\n",
        "!pip install requests\n",
        "!pip install pandas"
      ]
    },
    {
      "cell_type": "code",
      "source": [
        "from bs4 import BeautifulSoup\n",
        "import requests\n",
        "import pandas as pd"
      ],
      "metadata": {
        "id": "-VxaDYSQ43Dt"
      },
      "execution_count": null,
      "outputs": []
    },
    {
      "cell_type": "code",
      "source": [
        "headers = {'User-Agent': 'Mozilla/5.0 (Windows NT 6.1; WOW64; rv:50.0) Gecko/20100101 Firefox/50.0'}\n",
        "html_text = requests.get('https://www.wongnai.com/restaurants/5290th-%E0%B8%84%E0%B8%A3%E0%B8%B1%E0%B8%A7%E0%B8%94%E0%B8%AD%E0%B8%81%E0%B9%84%E0%B8%A1%E0%B9%89%E0%B8%82%E0%B8%B2%E0%B8%A7-%E0%B8%AA%E0%B8%B2%E0%B8%82%E0%B8%B2%E0%B9%81%E0%B8%A3%E0%B8%81', headers=headers).text\n",
        "soup = BeautifulSoup(html_text, 'lxml')\n",
        "comment = soup.find_all('div', class_ = 'BaseGap-sc-1wadqs8 PgjTa')\n",
        "\n",
        "for a in comment:\n",
        "    names = a.find('span', class_ ='sc-bdfBQB dkNout bd16 bd14-mWeb text-gray-700 mb-4')\n",
        "    stars = a.find('svg', class_ = 'Icon-sc-11zutxv jCciJr s18')\n",
        "    stars_color = stars['color']\n",
        "    time = a.find_all('span')\n",
        "    res = a.find_all('span')\n",
        "    time = res[5]\n",
        "    time_stamp = time.get('title')\n",
        "    print(names.text)\n",
        "    print(stars_color)\n",
        "    print(time_stamp)\n",
        "\n",
        "#time_stamp code ยังมีปัญหาอยู่เดี่๋ยวแก้ต่อ มันใช้ไม่ได้ในทุก comment\n"
      ],
      "metadata": {
        "colab": {
          "base_uri": "https://localhost:8080/"
        },
        "id": "fI2-AWgP5CpW",
        "outputId": "b68f9245-431e-4e58-c6ce-41182c9f6500"
      },
      "execution_count": null,
      "outputs": [
        {
          "output_type": "stream",
          "name": "stdout",
          "text": [
            "Nicky666\n",
            "#F95700\n",
            "ส., 12 ก.พ. 2022 13:44:42\n",
            "Pat Patt\n",
            "#A69B85\n",
            "ศ., 8 ต.ค. 2021 12:35:06\n",
            "Pipatpong Promchan\n",
            "#F95700\n",
            "พฤ., 15 ก.ค. 2021 14:54:37\n",
            "Canan Woravan\n",
            "#F95700\n",
            "อา., 18 เม.ย. 2021 00:34:52\n",
            "Anndear eats around\n",
            "#F7A707\n",
            "พฤ., 11 มี.ค. 2021 09:14:13\n",
            "nat\n",
            "#CD1201\n",
            "อ., 16 ก.พ. 2021 22:03:51\n"
          ]
        }
      ]
    },
    {
      "cell_type": "markdown",
      "source": [
        "## stars interpret\n",
        "'#A69B85' 1 star\n",
        "'#E0BC75' 2 stars\n",
        "'#F7A707' 3 stars\n",
        "'#F95700' 4 stars\n",
        "'#CD1201' 5 stars"
      ],
      "metadata": {
        "id": "bNoLfq-V7ZC7"
      }
    },
    {
      "cell_type": "code",
      "source": [
        "headers = {'User-Agent': 'Mozilla/5.0 (Windows NT 6.1; WOW64; rv:50.0) Gecko/20100101 Firefox/50.0'}\n",
        "html_text = requests.get('https://www.wongnai.com/restaurants/sousaku', headers=headers).text\n",
        "soup = BeautifulSoup(html_text, 'lxml')\n",
        "comments = soup.find_all('div', class_ = 'BaseGap-sc-1wadqs8 PgjTa')\n",
        "list = []\n",
        "list_headers = ['restaurant', 'name', 'stars', 'datetime']\n",
        "\n",
        "for comment in comments:\n",
        "    restaurant = soup.find('span', class_ = 'bd36 bd18-mWeb text-gray-700')\n",
        "    names = comment.find('span', class_ ='sc-bdfBQB dkNout bd16 bd14-mWeb text-gray-700 mb-4')\n",
        "    stars = comment.find('svg', class_ = 'Icon-sc-11zutxv jCciJr s18')\n",
        "    stars_color = stars['color']\n",
        "    span_find = comment.find_all('span')\n",
        "    time = span_find[5]\n",
        "    time_stamp = time.get('title')\n",
        "    info = [restaurant.text, names.text, stars_color, time_stamp]\n",
        "    list.append(info)\n",
        "    #print(names.text)\n",
        "    #print(stars_color)\n",
        "    #print(time_stamp)\n",
        "    #print(info)\n",
        "\n",
        "df = pd.DataFrame(list, columns = list_headers)\n",
        "print(df)\n",
        "    "
      ],
      "metadata": {
        "colab": {
          "base_uri": "https://localhost:8080/"
        },
        "id": "GtKyjPBs5fX6",
        "outputId": "4072fb62-29db-441f-fef3-c5d911bdc2fc"
      },
      "execution_count": null,
      "outputs": [
        {
          "output_type": "stream",
          "name": "stdout",
          "text": [
            "         restaurant          name    stars                     datetime\n",
            "0  SOUSAKU (โซซากุ)    TastewithP  #CD1201     ส., 5 ก.พ. 2022 15:30:47\n",
            "1  SOUSAKU (โซซากุ)       Whyokay  #F95700     ส., 8 ม.ค. 2022 22:14:12\n",
            "2  SOUSAKU (โซซากุ)    สมศัก นานา  #CD1201                         None\n",
            "3  SOUSAKU (โซซากุ)      คงแก่กิน  #CD1201    พ., 19 ม.ค. 2022 02:47:04\n",
            "4  SOUSAKU (โซซากุ)     Supphawat  #F7A707    อ., 27 ก.ค. 2021 19:48:25\n",
            "5  SOUSAKU (โซซากุ)  🌈Gmg ตตจม​🍷🌈  #CD1201  พฤ., 17 มิ.ย. 2021 20:57:57\n"
          ]
        }
      ]
    },
    {
      "cell_type": "code",
      "source": [
        ""
      ],
      "metadata": {
        "id": "P1elQTCCGOwe"
      },
      "execution_count": null,
      "outputs": []
    }
  ]
}