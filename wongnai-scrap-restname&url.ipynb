{
 "cells": [
  {
   "cell_type": "code",
   "execution_count": 116,
   "id": "b151f6d9",
   "metadata": {},
   "outputs": [
    {
     "name": "stdout",
     "output_type": "stream",
     "text": [
      "https://www.wongnai.com/businesses?page.size=5&rerank=false&domain=1&page.number=2\n",
      "https://www.wongnai.com/businesses?page.size=5&rerank=false&domain=1&page.number=3\n",
      "https://www.wongnai.com/businesses?page.size=5&rerank=false&domain=1&page.number=4\n"
     ]
    }
   ],
   "source": [
    "from requests_html import HTMLSession\n",
    "from bs4 import BeautifulSoup\n",
    "import csv\n",
    "import pandas as pd\n",
    "\n",
    "s = HTMLSession()\n",
    "url = 'https://www.wongnai.com/businesses?page.size=5&rerank=false&domain=1&page.number=1'\n",
    "pageNum = 1;\n",
    "\n",
    "def getdata(url):\n",
    "    r = s.get(url)\n",
    "    soup = BeautifulSoup(r.text, 'html.parser')\n",
    "    return soup\n",
    "\n",
    "def getnextpage(soup):\n",
    "    global pageNum\n",
    "    page = soup.find('div', {'class': 'aefy6t-0 fArRpZ'})\n",
    "    if page.find('button', {'class': 'sc-gsTEea kGbVZA'}):\n",
    "        pageNum = pageNum+1;\n",
    "        url = \"https://www.wongnai.com/businesses?page.size=5&rerank=false&domain=1&page.number=\" + str(pageNum)\n",
    "        return url\n",
    "    else:\n",
    "        return\n",
    "\n",
    "file = open(\"wongnai-restaurant-url.csv\", 'w', encoding=\"utf-8\", newline='')\n",
    "writer = csv.writer(file)\n",
    "writer.writerow(['Restaurant-Name', 'Url'])\n",
    "\n",
    "def parse(soup):\n",
    "    results = soup.find_all('div', {'class': \"BaseGap-sc-1wadqs8 eFbVWf xbc3uh-2 eyQEQP\"})\n",
    "    \n",
    "    for a in results:\n",
    "        resUrl = a.find('a', class_ = \"k0pvs2-0 sc-1bs98dy-0 hgwkbN ectdXQ\")['href']\n",
    "        resName = a.find('h2', class_ = \"sc-1qge0b2-0 kfaqPY bd20\")\n",
    "        if resName is not None:\n",
    "            resName = resName.text.strip()\n",
    "            resUrl = \"https://www.wongnai.com\" + resUrl\n",
    "            writer.writerow([resName, resUrl])\n",
    "        \n",
    "    return\n",
    "\n",
    "while True:\n",
    "    soup = getdata(url)\n",
    "    parse(soup)\n",
    "    url = getnextpage(soup)\n",
    "    if url == 'https://www.wongnai.com/businesses?page.size=5&rerank=false&domain=1&page.number=5':\n",
    "        break\n",
    "    print(url)\n",
    "    \n",
    "            \n",
    "file.close()\n"
   ]
  }
 ],
 "metadata": {
  "kernelspec": {
   "display_name": "Python 3 (ipykernel)",
   "language": "python",
   "name": "python3"
  },
  "language_info": {
   "codemirror_mode": {
    "name": "ipython",
    "version": 3
   },
   "file_extension": ".py",
   "mimetype": "text/x-python",
   "name": "python",
   "nbconvert_exporter": "python",
   "pygments_lexer": "ipython3",
   "version": "3.9.7"
  }
 },
 "nbformat": 4,
 "nbformat_minor": 5
}
